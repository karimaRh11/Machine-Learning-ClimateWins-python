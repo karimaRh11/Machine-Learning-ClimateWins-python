{
 "cells": [
  {
   "cell_type": "code",
   "execution_count": 1,
   "id": "44509fe7-b9b0-4b5d-92a1-ec51007b866a",
   "metadata": {},
   "outputs": [],
   "source": [
    "# import libraries \n",
    "import pandas as pd\n",
    "import numpy as np\n",
    "import os\n"
   ]
  },
  {
   "cell_type": "code",
   "execution_count": null,
   "id": "0b55e8c4-71fc-4203-835b-629a7a7005ab",
   "metadata": {},
   "outputs": [],
   "source": [
    "path = r'C:\\Users\\IVON6\\Chocolate Bar Ratings Analysis'\n",
    "df_clean_data = pd.read_csv(os.path.join(path, '02 Data', 'Prepared Data', 'flavor_of_cacao_clean.csv'))"
   ]
  }
 ],
 "metadata": {
  "kernelspec": {
   "display_name": "Python 3 (ipykernel)",
   "language": "python",
   "name": "python3"
  },
  "language_info": {
   "codemirror_mode": {
    "name": "ipython",
    "version": 3
   },
   "file_extension": ".py",
   "mimetype": "text/x-python",
   "name": "python",
   "nbconvert_exporter": "python",
   "pygments_lexer": "ipython3",
   "version": "3.12.7"
  }
 },
 "nbformat": 4,
 "nbformat_minor": 5
}
